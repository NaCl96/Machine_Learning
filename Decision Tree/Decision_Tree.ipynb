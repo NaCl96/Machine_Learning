{
 "nbformat": 4,
 "nbformat_minor": 2,
 "metadata": {
  "language_info": {
   "name": "python",
   "codemirror_mode": {
    "name": "ipython",
    "version": 3
   },
   "version": "3.6.2"
  },
  "orig_nbformat": 2,
  "file_extension": ".py",
  "mimetype": "text/x-python",
  "name": "python",
  "npconvert_exporter": "python",
  "pygments_lexer": "ipython3",
  "version": 3
 },
 "cells": [
  {
   "source": [
    "import numpy as np \n",
    "from sklearn import datasets\n",
    "import matplotlib.pyplot as plt "
   ],
   "cell_type": "code",
   "outputs": [],
   "metadata": {},
   "execution_count": 2
  },
  {
   "cell_type": "code",
   "metadata": {},
   "outputs": [],
   "source": [
    "iris = datasets.load_iris()\n",
    "X = iris.data[:,2:]\n",
    "y = iris.target\n",
    "\n",
    "plt.scatter(X[y==0,0],X[y==0,1])\n",
    "plt.scatter(X[y==1,0],X[y==1,1])\n",
    "plt.scatter(X[y==2,0],X[y==2,1])\n",
    "plt.show()"
   ]
  },
  {
   "cell_type": "code",
   "execution_count": 44,
   "metadata": {},
   "outputs": [
    {
     "data": {
      "text/plain": "array([[0, 0, 0, 0],\n       [0, 0, 0, 1],\n       [0, 1, 0, 1],\n       [0, 1, 1, 0],\n       [0, 0, 0, 0],\n       [1, 0, 0, 0],\n       [1, 0, 0, 1],\n       [1, 1, 1, 1],\n       [1, 0, 1, 2],\n       [1, 0, 1, 2],\n       [2, 0, 1, 2],\n       [2, 0, 1, 1],\n       [2, 1, 0, 1],\n       [2, 1, 0, 2],\n       [2, 0, 0, 0]])"
     },
     "execution_count": 44,
     "metadata": {},
     "output_type": "execute_result"
    }
   ],
   "source": [
    "from collections import Counter\n",
    "from math import log\n",
    "\n",
    "dataSet = np.array([[0, 0, 0, 0, 0],\n",
    "                  [0, 0, 0, 1, 0],\n",
    "                  [0, 1, 0, 1, 1],\n",
    "                  [0, 1, 1, 0, 1],\n",
    "                  [0, 0, 0, 0, 0],\n",
    "                  [1, 0, 0, 0, 0],\n",
    "                  [1, 0, 0, 1, 0],\n",
    "                  [1, 1, 1, 1, 1],\n",
    "                  [1, 0, 1, 2, 1],\n",
    "                  [1, 0, 1, 2, 1],\n",
    "                  [2, 0, 1, 2, 1],\n",
    "                  [2, 0, 1, 1, 1],\n",
    "                  [2, 1, 0, 1, 1],\n",
    "                  [2, 1, 0, 2, 1],\n",
    "                  [2, 0, 0, 0, 0]])\n",
    "featList = ['年龄','有工作','有自己的房子','信贷情况']\n",
    "X = dataSet[:,0:4]\n",
    "y = dataSet[:,4]"
   ]
  },
  {
   "cell_type": "code",
   "execution_count": 38,
   "metadata": {},
   "outputs": [],
   "source": [
    "#计算给定标签的经验熵\n",
    "def calcuEntropy(y):\n",
    "    count = Counter(y.flatten())\n",
    "    entropy = 0\n",
    "    for num in count.values():\n",
    "        p = num/len(y)\n",
    "        entropy += -p * log(p)\n",
    "    return entropy\n",
    "\n",
    "\n",
    "\n"
   ]
  },
  {
   "cell_type": "code",
   "execution_count": 39,
   "metadata": {},
   "outputs": [],
   "source": [
    "#据传递进来的特征维度及值，将数据划分为2类\n",
    "def split(X,y,featVec,value):\n",
    "    index_a = (X[:,featVec] <= value)\n",
    "    index_b = (X[:,featVec] > value)\n",
    "\n",
    "    return X[index_a],y[index_a],X[index_b],y[index_b]\n",
    "\n"
   ]
  },
  {
   "source": [
    "a = np.array([1,0,0,1,0,1])\n",
    "index = (a[:] <= 0.5)\n",
    "a[index]"
   ],
   "cell_type": "code",
   "outputs": [
    {
     "output_type": "execute_result",
     "data": {
      "text/plain": "array([0, 0, 0])"
     },
     "metadata": {},
     "execution_count": 5
    }
   ],
   "metadata": {},
   "execution_count": 5
  },
  {
   "cell_type": "code",
   "execution_count": 45,
   "metadata": {},
   "outputs": [
    {
     "name": "stdout",
     "output_type": "stream",
     "text": "最优熵： 0.6365141682948128\n在哪个维度熵进行划分： 2\n在哪个值上进行划分： 0.5\n"
    }
   ],
   "source": [
    "\"\"\"\n",
    "函数说明：寻找最优划分\n",
    "Parameters：\n",
    "    X,y：特征向量、标签\n",
    "Returns：\n",
    "    返回最优熵，以及在哪个维度、哪个值进行划分\n",
    "\"\"\"\n",
    "\n",
    "def best_split(X,y):\n",
    "     # 搞一个熵的初始值：正无穷\n",
    "    best_entropy = float('inf')\n",
    "    best_featVec = -1\n",
    "    best_value = -1\n",
    "    #遍历每一个特征，求最优熵\n",
    "    for featVec in range(X.shape[1]):\n",
    "        sort_index = np.argsort(X[:,featVec])\n",
    "\n",
    "        for i in range(1,len(X)):\n",
    "            if(X[sort_index[i   -1],featVec] != X[sort_index[i],featVec]):\n",
    "                value = (X[sort_index[i-1],featVec] + X[sort_index[i],featVec])/2\n",
    "                X_l,y_l,X_r,y_r = split(X,y,featVec,value)\n",
    "                \n",
    "                entropy = calcuEntropy(y_l) + calcuEntropy(y_r)\n",
    "                if entropy < best_entropy:\n",
    "                    best_entropy = entropy\n",
    "                    best_featVec = featVec\n",
    "                    best_value = value\n",
    "                \n",
    "    return best_entropy,best_featVec,best_value\n",
    "\n",
    "best_entropy,best_featVec,best_value = best_split(X,y)\n",
    "\n",
    "\n",
    "print(\"最优熵：\", best_entropy)\n",
    "print(\"在哪个维度熵进行划分：\", best_featVec)\n",
    "print(\"在哪个值上进行划分：\", best_value)\n",
    "\n",
    "\n",
    "\n",
    "\n"
   ]
  }
 ]
}